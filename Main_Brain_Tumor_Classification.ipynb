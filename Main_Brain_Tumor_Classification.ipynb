{
 "cells": [
  {
   "cell_type": "markdown",
   "metadata": {},
   "source": [
    "# Importing the libraries"
   ]
  },
  {
   "cell_type": "code",
   "execution_count": 1,
   "metadata": {},
   "outputs": [],
   "source": [
    "from tensorflow import keras\n",
    "from tensorflow.keras.preprocessing.image import ImageDataGenerator\n",
    "from tensorflow.keras.models import Sequential\n",
    "from tensorflow.keras.layers import Conv2D\n",
    "from tensorflow.keras.layers import MaxPooling2D\n",
    "from tensorflow.keras.layers import Flatten\n",
    "from tensorflow.keras.layers import Dense\n",
    "from tensorflow.keras.callbacks import EarlyStopping\n",
    "from tensorflow.keras.callbacks import ModelCheckpoint\n",
    "import matplotlib.pyplot as plt"
   ]
  },
  {
   "cell_type": "markdown",
   "metadata": {},
   "source": [
    "# Getting and loading the Training and Validation set"
   ]
  },
  {
   "cell_type": "code",
   "execution_count": 2,
   "metadata": {},
   "outputs": [],
   "source": [
    "train_path = r\"C:\\Brain_Tumor_Classification\\dataset\\train\"\n",
    "validation_path = r\"C:\\Brain_Tumor_Classification\\dataset\\val\"\n",
    "test_path = r\"C:\\Brain_Tumor_Classification\\dataset\\test\""
   ]
  },
  {
   "cell_type": "code",
   "execution_count": 5,
   "metadata": {},
   "outputs": [],
   "source": [
    "batch_size = 16\n",
    "img_size = (256, 256)"
   ]
  },
  {
   "cell_type": "code",
   "execution_count": 6,
   "metadata": {},
   "outputs": [],
   "source": [
    "train_datagen = ImageDataGenerator(rescale = 1./255,\n",
    "                                  rotation_range = 40.,\n",
    "                                  width_shift_range = 0.2,\n",
    "                                  height_shift_range = 0.2,\n",
    "                                  shear_range = 0.2,\n",
    "                                  zoom_range = 0.2,\n",
    "                                  horizontal_flip = True)\n",
    "\n",
    "validation_datagen = ImageDataGenerator(rescale = 1./255)"
   ]
  },
  {
   "cell_type": "code",
   "execution_count": 7,
   "metadata": {},
   "outputs": [
    {
     "name": "stdout",
     "output_type": "stream",
     "text": [
      "Found 2446 images belonging to 4 classes.\n",
      "Found 815 images belonging to 4 classes.\n",
      "Found 3 images belonging to 4 classes.\n"
     ]
    }
   ],
   "source": [
    "train_generator = train_datagen.flow_from_directory(train_path,\n",
    "                                                   target_size = img_size,\n",
    "                                                   batch_size = batch_size,\n",
    "                                                    color_mode = \"grayscale\",\n",
    "                                                   class_mode = \"categorical\")\n",
    "\n",
    "validation_generator = validation_datagen.flow_from_directory(validation_path,\n",
    "                                                             target_size = img_size,\n",
    "                                                             batch_size = batch_size,\n",
    "                                                              color_mode = \"grayscale\",\n",
    "                                                             class_mode = \"categorical\")\n",
    "\n",
    "test_generator = validation_datagen.flow_from_directory(test_path,\n",
    "                                                       target_size = img_size,\n",
    "                                                       batch_size = batch_size,\n",
    "                                                       color_mode = \"grayscale\",\n",
    "                                                       class_mode = \"categorical\",\n",
    "                                                       shuffle = False)"
   ]
  },
  {
   "cell_type": "markdown",
   "metadata": {},
   "source": [
    "# Getting the class names"
   ]
  },
  {
   "cell_type": "code",
   "execution_count": 8,
   "metadata": {},
   "outputs": [
    {
     "name": "stdout",
     "output_type": "stream",
     "text": [
      "{0: 'glioma_tumor', 1: 'meningioma_tumor', 2: 'no_tumor', 3: 'pituitary_tumor'}\n"
     ]
    }
   ],
   "source": [
    "temp_classes = dict(train_generator.class_indices)\n",
    "\n",
    "classes = dict()\n",
    "for (k, v) in temp_classes.items() :\n",
    "    classes[v] = k\n",
    "print(classes)"
   ]
  },
  {
   "cell_type": "markdown",
   "metadata": {},
   "source": [
    "# Building the CNN"
   ]
  },
  {
   "cell_type": "markdown",
   "metadata": {},
   "source": [
    "## Initalising the CNN"
   ]
  },
  {
   "cell_type": "code",
   "execution_count": 9,
   "metadata": {},
   "outputs": [],
   "source": [
    "model = Sequential()"
   ]
  },
  {
   "cell_type": "markdown",
   "metadata": {},
   "source": [
    "## Adding the layers"
   ]
  },
  {
   "cell_type": "markdown",
   "metadata": {},
   "source": [
    "### Adding the First Convolutional and Pooling layers"
   ]
  },
  {
   "cell_type": "code",
   "execution_count": 10,
   "metadata": {},
   "outputs": [],
   "source": [
    "model.add(Conv2D(32, (3, 3), input_shape = (img_size[0], img_size[1], 1), activation = \"relu\"))\n",
    "model.add(MaxPooling2D(pool_size = (2, 2)))"
   ]
  },
  {
   "cell_type": "markdown",
   "metadata": {},
   "source": [
    "### Adding the Second Convolutional and Pooling Layers"
   ]
  },
  {
   "cell_type": "code",
   "execution_count": 11,
   "metadata": {},
   "outputs": [],
   "source": [
    "model.add(Conv2D(32, (3, 3), input_shape = (img_size[0], img_size[1], 1), activation = \"relu\"))\n",
    "model.add(MaxPooling2D(pool_size = (2, 2)))"
   ]
  },
  {
   "cell_type": "markdown",
   "metadata": {},
   "source": [
    "### Adding the Third Convolutional and Pooling Layers"
   ]
  },
  {
   "cell_type": "code",
   "execution_count": 12,
   "metadata": {},
   "outputs": [],
   "source": [
    "model.add(Conv2D(64, (3, 3), input_shape = (img_size[0], img_size[1], 1), activation = \"relu\"))\n",
    "model.add(MaxPooling2D(pool_size = (2, 2)))"
   ]
  },
  {
   "cell_type": "markdown",
   "metadata": {},
   "source": [
    "### Adding the Forth Convoutional and Pooling Layers"
   ]
  },
  {
   "cell_type": "code",
   "execution_count": 13,
   "metadata": {},
   "outputs": [],
   "source": [
    "model.add(Conv2D(64, (3, 3), input_shape = (img_size[0], img_size[1], 1), activation = \"relu\"))\n",
    "model.add(MaxPooling2D(pool_size = (2, 2)))"
   ]
  },
  {
   "cell_type": "markdown",
   "metadata": {},
   "source": [
    "### Adding the Fifth Convoltional and Pooling Layers"
   ]
  },
  {
   "cell_type": "code",
   "execution_count": 14,
   "metadata": {},
   "outputs": [],
   "source": [
    "model.add(Conv2D(128, (3, 3), input_shape = (img_size[0], img_size[1], 1), activation = \"relu\"))\n",
    "model.add(MaxPooling2D(pool_size = (2, 2)))"
   ]
  },
  {
   "cell_type": "markdown",
   "metadata": {},
   "source": [
    "### Adding the Sixth Convoltional and Pooling Layers"
   ]
  },
  {
   "cell_type": "code",
   "execution_count": 15,
   "metadata": {},
   "outputs": [],
   "source": [
    "model.add(Conv2D(128, (3, 3), input_shape = (img_size[0], img_size[1], 1), activation = \"relu\"))\n",
    "model.add(MaxPooling2D(pool_size = (2, 2)))"
   ]
  },
  {
   "cell_type": "markdown",
   "metadata": {},
   "source": [
    "## Flattening all the layers"
   ]
  },
  {
   "cell_type": "code",
   "execution_count": 16,
   "metadata": {},
   "outputs": [],
   "source": [
    "model.add(Flatten())"
   ]
  },
  {
   "cell_type": "markdown",
   "metadata": {},
   "source": [
    "## Adding the First Fully Connnected Layer"
   ]
  },
  {
   "cell_type": "code",
   "execution_count": 17,
   "metadata": {},
   "outputs": [],
   "source": [
    "model.add(Dense(units=128, activation = \"relu\"))"
   ]
  },
  {
   "cell_type": "markdown",
   "metadata": {},
   "source": [
    "## Adding the Second Fully Connected Layer"
   ]
  },
  {
   "cell_type": "code",
   "execution_count": 18,
   "metadata": {},
   "outputs": [],
   "source": [
    "model.add(Dense(units = 64, activation = \"relu\"))"
   ]
  },
  {
   "cell_type": "markdown",
   "metadata": {},
   "source": [
    "## Adding the Final Fully Connected Layer"
   ]
  },
  {
   "cell_type": "code",
   "execution_count": 19,
   "metadata": {},
   "outputs": [],
   "source": [
    "model.add(Dense(units = 4, activation = \"sigmoid\"))"
   ]
  },
  {
   "cell_type": "markdown",
   "metadata": {},
   "source": [
    "## Displaying the model summary"
   ]
  },
  {
   "cell_type": "code",
   "execution_count": 20,
   "metadata": {},
   "outputs": [
    {
     "name": "stdout",
     "output_type": "stream",
     "text": [
      "Model: \"sequential\"\n",
      "_________________________________________________________________\n",
      "Layer (type)                 Output Shape              Param #   \n",
      "=================================================================\n",
      "conv2d (Conv2D)              (None, 254, 254, 32)      320       \n",
      "_________________________________________________________________\n",
      "max_pooling2d (MaxPooling2D) (None, 127, 127, 32)      0         \n",
      "_________________________________________________________________\n",
      "conv2d_1 (Conv2D)            (None, 125, 125, 32)      9248      \n",
      "_________________________________________________________________\n",
      "max_pooling2d_1 (MaxPooling2 (None, 62, 62, 32)        0         \n",
      "_________________________________________________________________\n",
      "conv2d_2 (Conv2D)            (None, 60, 60, 64)        18496     \n",
      "_________________________________________________________________\n",
      "max_pooling2d_2 (MaxPooling2 (None, 30, 30, 64)        0         \n",
      "_________________________________________________________________\n",
      "conv2d_3 (Conv2D)            (None, 28, 28, 64)        36928     \n",
      "_________________________________________________________________\n",
      "max_pooling2d_3 (MaxPooling2 (None, 14, 14, 64)        0         \n",
      "_________________________________________________________________\n",
      "conv2d_4 (Conv2D)            (None, 12, 12, 128)       73856     \n",
      "_________________________________________________________________\n",
      "max_pooling2d_4 (MaxPooling2 (None, 6, 6, 128)         0         \n",
      "_________________________________________________________________\n",
      "conv2d_5 (Conv2D)            (None, 4, 4, 128)         147584    \n",
      "_________________________________________________________________\n",
      "max_pooling2d_5 (MaxPooling2 (None, 2, 2, 128)         0         \n",
      "_________________________________________________________________\n",
      "flatten (Flatten)            (None, 512)               0         \n",
      "_________________________________________________________________\n",
      "dense (Dense)                (None, 128)               65664     \n",
      "_________________________________________________________________\n",
      "dense_1 (Dense)              (None, 64)                8256      \n",
      "_________________________________________________________________\n",
      "dense_2 (Dense)              (None, 4)                 260       \n",
      "=================================================================\n",
      "Total params: 360,612\n",
      "Trainable params: 360,612\n",
      "Non-trainable params: 0\n",
      "_________________________________________________________________\n"
     ]
    }
   ],
   "source": [
    "model.summary()"
   ]
  },
  {
   "cell_type": "markdown",
   "metadata": {},
   "source": [
    "## Compiling the CNN model"
   ]
  },
  {
   "cell_type": "code",
   "execution_count": 21,
   "metadata": {},
   "outputs": [],
   "source": [
    "model.compile(optimizer = \"adam\",\n",
    "             loss = \"categorical_crossentropy\", \n",
    "             metrics = [\"accuracy\"])"
   ]
  },
  {
   "cell_type": "markdown",
   "metadata": {},
   "source": [
    "# Training the CNN"
   ]
  },
  {
   "cell_type": "markdown",
   "metadata": {},
   "source": [
    "## Saving the best model only"
   ]
  },
  {
   "cell_type": "code",
   "execution_count": 22,
   "metadata": {},
   "outputs": [],
   "source": [
    "checkpoint = ModelCheckpoint(filepath = \"brain_tumor.h5\",\n",
    "                            save_best_only = True)"
   ]
  },
  {
   "cell_type": "markdown",
   "metadata": {},
   "source": [
    "## Stop the training if no imporverment"
   ]
  },
  {
   "cell_type": "code",
   "execution_count": 23,
   "metadata": {},
   "outputs": [],
   "source": [
    "earlyStopping = EarlyStopping(monitor=\"val_loss\", \n",
    "                              patience = 10,\n",
    "                             restore_best_weights = True,\n",
    "                             verbose = 1)"
   ]
  },
  {
   "cell_type": "markdown",
   "metadata": {},
   "source": [
    "## Calculating the steps_per_epoch and validation_steps"
   ]
  },
  {
   "cell_type": "code",
   "execution_count": 26,
   "metadata": {},
   "outputs": [
    {
     "name": "stdout",
     "output_type": "stream",
     "text": [
      "153\n",
      "51\n"
     ]
    }
   ],
   "source": [
    "import math\n",
    "\n",
    "batch_size = 16\n",
    "training_size = 2446\n",
    "validation_size = 815\n",
    "\n",
    "compute_steps_per_epoch = lambda x : int(math.ceil(1. * x / batch_size))\n",
    "\n",
    "steps_per_epoch = compute_steps_per_epoch(training_size)\n",
    "validation_steps = compute_steps_per_epoch(validation_size)\n",
    "\n",
    "print(steps_per_epoch)\n",
    "print(validation_steps)"
   ]
  },
  {
   "cell_type": "code",
   "execution_count": 27,
   "metadata": {},
   "outputs": [
    {
     "name": "stdout",
     "output_type": "stream",
     "text": [
      "Epoch 1/50\n",
      "153/153 [==============================] - 73s 478ms/step - loss: 1.3509 - accuracy: 0.3205 - val_loss: 1.2930 - val_accuracy: 0.3865\n",
      "Epoch 2/50\n",
      "153/153 [==============================] - 74s 486ms/step - loss: 1.3022 - accuracy: 0.3577 - val_loss: 1.2047 - val_accuracy: 0.5104\n",
      "Epoch 3/50\n",
      "153/153 [==============================] - 81s 528ms/step - loss: 1.1510 - accuracy: 0.4845 - val_loss: 1.0334 - val_accuracy: 0.5620\n",
      "Epoch 4/50\n",
      "153/153 [==============================] - 80s 524ms/step - loss: 1.0886 - accuracy: 0.5282 - val_loss: 0.9155 - val_accuracy: 0.6000\n",
      "Epoch 5/50\n",
      "153/153 [==============================] - 81s 526ms/step - loss: 1.0636 - accuracy: 0.5487 - val_loss: 0.9062 - val_accuracy: 0.6037\n",
      "Epoch 6/50\n",
      "153/153 [==============================] - 80s 523ms/step - loss: 0.9916 - accuracy: 0.5777 - val_loss: 0.8235 - val_accuracy: 0.6307\n",
      "Epoch 7/50\n",
      "153/153 [==============================] - 80s 525ms/step - loss: 0.9160 - accuracy: 0.6259 - val_loss: 0.8527 - val_accuracy: 0.6626\n",
      "Epoch 8/50\n",
      "153/153 [==============================] - 81s 527ms/step - loss: 0.8894 - accuracy: 0.6255 - val_loss: 0.9127 - val_accuracy: 0.6270\n",
      "Epoch 9/50\n",
      "153/153 [==============================] - 81s 526ms/step - loss: 0.8579 - accuracy: 0.6484 - val_loss: 0.7300 - val_accuracy: 0.7227\n",
      "Epoch 10/50\n",
      "153/153 [==============================] - 82s 537ms/step - loss: 0.8087 - accuracy: 0.6631 - val_loss: 0.6868 - val_accuracy: 0.7313\n",
      "Epoch 11/50\n",
      "153/153 [==============================] - 80s 525ms/step - loss: 0.7700 - accuracy: 0.6872 - val_loss: 0.7231 - val_accuracy: 0.6896\n",
      "Epoch 12/50\n",
      "153/153 [==============================] - 83s 539ms/step - loss: 0.7330 - accuracy: 0.7073 - val_loss: 0.6185 - val_accuracy: 0.7595\n",
      "Epoch 13/50\n",
      "153/153 [==============================] - 81s 529ms/step - loss: 0.6986 - accuracy: 0.7216 - val_loss: 0.7458 - val_accuracy: 0.7227\n",
      "Epoch 14/50\n",
      "153/153 [==============================] - 97s 632ms/step - loss: 0.6826 - accuracy: 0.7244 - val_loss: 0.6052 - val_accuracy: 0.7521\n",
      "Epoch 15/50\n",
      "153/153 [==============================] - 91s 593ms/step - loss: 0.6150 - accuracy: 0.7653 - val_loss: 0.5234 - val_accuracy: 0.7963\n",
      "Epoch 16/50\n",
      "153/153 [==============================] - 86s 560ms/step - loss: 0.6002 - accuracy: 0.7739 - val_loss: 0.4804 - val_accuracy: 0.8245\n",
      "Epoch 17/50\n",
      "153/153 [==============================] - 85s 556ms/step - loss: 0.5816 - accuracy: 0.7796 - val_loss: 0.5888 - val_accuracy: 0.7853\n",
      "Epoch 18/50\n",
      "153/153 [==============================] - 105s 687ms/step - loss: 0.5358 - accuracy: 0.7984 - val_loss: 0.4783 - val_accuracy: 0.8233\n",
      "Epoch 19/50\n",
      "153/153 [==============================] - 91s 593ms/step - loss: 0.5547 - accuracy: 0.7899 - val_loss: 0.5127 - val_accuracy: 0.8037\n",
      "Epoch 20/50\n",
      "153/153 [==============================] - 84s 545ms/step - loss: 0.5221 - accuracy: 0.7968 - val_loss: 0.4134 - val_accuracy: 0.8564\n",
      "Epoch 21/50\n",
      "153/153 [==============================] - 88s 577ms/step - loss: 0.4984 - accuracy: 0.8095 - val_loss: 0.4323 - val_accuracy: 0.8344\n",
      "Epoch 22/50\n",
      "153/153 [==============================] - 89s 578ms/step - loss: 0.4881 - accuracy: 0.8217 - val_loss: 0.4469 - val_accuracy: 0.8307\n",
      "Epoch 23/50\n",
      "153/153 [==============================] - 97s 636ms/step - loss: 0.4610 - accuracy: 0.8189 - val_loss: 0.4244 - val_accuracy: 0.8307\n",
      "Epoch 24/50\n",
      "153/153 [==============================] - 87s 566ms/step - loss: 0.4700 - accuracy: 0.8193 - val_loss: 0.4184 - val_accuracy: 0.8466\n",
      "Epoch 25/50\n",
      "153/153 [==============================] - 89s 584ms/step - loss: 0.4545 - accuracy: 0.8299 - val_loss: 0.4175 - val_accuracy: 0.8454\n",
      "Epoch 26/50\n",
      "153/153 [==============================] - 99s 645ms/step - loss: 0.4328 - accuracy: 0.8348 - val_loss: 0.3607 - val_accuracy: 0.8503\n",
      "Epoch 27/50\n",
      "153/153 [==============================] - 97s 634ms/step - loss: 0.4247 - accuracy: 0.8357 - val_loss: 0.3453 - val_accuracy: 0.8687\n",
      "Epoch 28/50\n",
      "153/153 [==============================] - 104s 680ms/step - loss: 0.4406 - accuracy: 0.8410 - val_loss: 0.3667 - val_accuracy: 0.8601\n",
      "Epoch 29/50\n",
      "153/153 [==============================] - 96s 629ms/step - loss: 0.4316 - accuracy: 0.8361 - val_loss: 0.3766 - val_accuracy: 0.8638\n",
      "Epoch 30/50\n",
      "153/153 [==============================] - 94s 615ms/step - loss: 0.4169 - accuracy: 0.8471 - val_loss: 0.4813 - val_accuracy: 0.8368\n",
      "Epoch 31/50\n",
      "153/153 [==============================] - 97s 633ms/step - loss: 0.3783 - accuracy: 0.8594 - val_loss: 0.3394 - val_accuracy: 0.8663\n",
      "Epoch 32/50\n",
      "153/153 [==============================] - 96s 629ms/step - loss: 0.3926 - accuracy: 0.8594 - val_loss: 0.3286 - val_accuracy: 0.8712\n",
      "Epoch 33/50\n",
      "153/153 [==============================] - 94s 611ms/step - loss: 0.3451 - accuracy: 0.8720 - val_loss: 0.3906 - val_accuracy: 0.8491\n",
      "Epoch 34/50\n",
      "153/153 [==============================] - 94s 614ms/step - loss: 0.3553 - accuracy: 0.8614 - val_loss: 0.3403 - val_accuracy: 0.8699\n",
      "Epoch 35/50\n",
      "153/153 [==============================] - 101s 657ms/step - loss: 0.3562 - accuracy: 0.8667 - val_loss: 0.3331 - val_accuracy: 0.8748\n",
      "Epoch 36/50\n",
      "153/153 [==============================] - 99s 648ms/step - loss: 0.3617 - accuracy: 0.8655 - val_loss: 0.3115 - val_accuracy: 0.8712\n",
      "Epoch 37/50\n",
      "153/153 [==============================] - 93s 606ms/step - loss: 0.3379 - accuracy: 0.8720 - val_loss: 0.3224 - val_accuracy: 0.8785\n",
      "Epoch 38/50\n",
      "153/153 [==============================] - 101s 662ms/step - loss: 0.3353 - accuracy: 0.8712 - val_loss: 0.3791 - val_accuracy: 0.8564\n",
      "Epoch 39/50\n",
      "153/153 [==============================] - 123s 802ms/step - loss: 0.3588 - accuracy: 0.8704 - val_loss: 0.3363 - val_accuracy: 0.8638\n",
      "Epoch 40/50\n",
      "153/153 [==============================] - 136s 888ms/step - loss: 0.2772 - accuracy: 0.8929 - val_loss: 0.3517 - val_accuracy: 0.8822\n",
      "Epoch 41/50\n",
      "153/153 [==============================] - 124s 808ms/step - loss: 0.3622 - accuracy: 0.8635 - val_loss: 0.3342 - val_accuracy: 0.8687\n",
      "Epoch 42/50\n",
      "153/153 [==============================] - 133s 872ms/step - loss: 0.3051 - accuracy: 0.8823 - val_loss: 0.3681 - val_accuracy: 0.8785\n",
      "Epoch 43/50\n",
      "153/153 [==============================] - 134s 876ms/step - loss: 0.3258 - accuracy: 0.8823 - val_loss: 0.3144 - val_accuracy: 0.8822\n",
      "Epoch 44/50\n",
      "153/153 [==============================] - 122s 792ms/step - loss: 0.3299 - accuracy: 0.8761 - val_loss: 0.3290 - val_accuracy: 0.8810\n",
      "Epoch 45/50\n",
      "153/153 [==============================] - 96s 628ms/step - loss: 0.2794 - accuracy: 0.8957 - val_loss: 0.2817 - val_accuracy: 0.9067\n",
      "Epoch 46/50\n",
      "153/153 [==============================] - 95s 620ms/step - loss: 0.2731 - accuracy: 0.8966 - val_loss: 0.2827 - val_accuracy: 0.9080\n",
      "Epoch 47/50\n",
      "153/153 [==============================] - 96s 625ms/step - loss: 0.2964 - accuracy: 0.8888 - val_loss: 0.3484 - val_accuracy: 0.8761\n",
      "Epoch 48/50\n",
      "153/153 [==============================] - 90s 588ms/step - loss: 0.2989 - accuracy: 0.8913 - val_loss: 0.2961 - val_accuracy: 0.8810\n",
      "Epoch 49/50\n",
      "153/153 [==============================] - 93s 609ms/step - loss: 0.2863 - accuracy: 0.8896 - val_loss: 0.4603 - val_accuracy: 0.8503\n",
      "Epoch 50/50\n",
      "153/153 [==============================] - 88s 571ms/step - loss: 0.2849 - accuracy: 0.8921 - val_loss: 0.3538 - val_accuracy: 0.8687\n"
     ]
    }
   ],
   "source": [
    "history = model.fit_generator(train_generator,\n",
    "                             steps_per_epoch = steps_per_epoch,\n",
    "                             epochs = 50,\n",
    "                             validation_data = validation_generator,\n",
    "                             validation_steps = validation_steps,\n",
    "                             callbacks = [checkpoint, earlyStopping])"
   ]
  },
  {
   "cell_type": "markdown",
   "metadata": {},
   "source": [
    "# Saving the model"
   ]
  },
  {
   "cell_type": "code",
   "execution_count": 28,
   "metadata": {},
   "outputs": [],
   "source": [
    "model_json = model.to_json()\n",
    "\n",
    "with open(\"brain_tumor.json\", \"w\") as json_file :\n",
    "    json_file.write(model_json)"
   ]
  },
  {
   "cell_type": "markdown",
   "metadata": {},
   "source": [
    "# Visualizing the training performance"
   ]
  },
  {
   "cell_type": "code",
   "execution_count": 29,
   "metadata": {},
   "outputs": [
    {
     "data": {
      "image/png": "[encoded data removed]",
      "text/plain": [
       "<Figure size 864x864 with 2 Axes>"
      ]
     },
     "metadata": {
      "needs_background": "light"
     },
     "output_type": "display_data"
    }
   ],
   "source": [
    "plt.figure(figsize = (12, 12))\n",
    "\n",
    "plt.subplot(2, 2, 1)\n",
    "plt.plot(history.history[\"accuracy\"], label = \"accuracy\")\n",
    "plt.plot(history.history[\"val_accuracy\"], label = \"val_accuracy\")\n",
    "plt.legend()\n",
    "plt.grid()\n",
    "plt.title(\"Accuracy Evaluation\")\n",
    "\n",
    "plt.subplot(2, 2, 2)\n",
    "plt.plot(history.history[\"loss\"], label = \"loss\")\n",
    "plt.plot(history.history[\"val_loss\"], label = \"val_loss\")\n",
    "plt.grid()\n",
    "plt.legend()\n",
    "plt.title(\"Loss Evaluation\")\n",
    "\n",
    "plt.savefig(\"brain_tumor_model_history.jpg\")"
   ]
  },
  {
   "cell_type": "markdown",
   "metadata": {},
   "source": [
    "# Getting the accuracy for test set"
   ]
  },
  {
   "cell_type": "code",
   "execution_count": 32,
   "metadata": {},
   "outputs": [
    {
     "name": "stdout",
     "output_type": "stream",
     "text": [
      "1/1 [==============================] - 0s 60ms/step - loss: 0.3372 - accuracy: 0.6667\n",
      "[0.33723393082618713, 0.6666666865348816]\n"
     ]
    }
   ],
   "source": [
    "test_accuracy = model.evaluate(test_generator)\n",
    "print(test_accuracy)"
   ]
  },
  {
   "cell_type": "code",
   "execution_count": 33,
   "metadata": {},
   "outputs": [
    {
     "name": "stdout",
     "output_type": "stream",
     "text": [
      "1/1 [==============================] - 0s 59ms/step\n"
     ]
    },
    {
     "data": {
      "text/plain": [
       "array([[9.9479663e-01, 9.9675405e-01, 2.8886421e-05, 9.4306612e-01],\n",
       "       [5.4127699e-01, 9.9552000e-01, 7.5734556e-03, 1.8664750e-01],\n",
       "       [1.9093215e-01, 7.2915959e-01, 1.2246409e-01, 9.9517667e-01]],\n",
       "      dtype=float32)"
      ]
     },
     "execution_count": 33,
     "metadata": {},
     "output_type": "execute_result"
    }
   ],
   "source": [
    "preds = model.predict(test_generator, verbose=1)\n",
    "preds"
   ]
  },
  {
   "cell_type": "code",
   "execution_count": 34,
   "metadata": {},
   "outputs": [],
   "source": [
    "predictions = preds.copy()\n",
    "predictions[predictions <= 0.5] = 1\n",
    "predictions[predictions > 0.5] = 0"
   ]
  },
  {
   "cell_type": "code",
   "execution_count": 35,
   "metadata": {},
   "outputs": [
    {
     "name": "stdout",
     "output_type": "stream",
     "text": [
      "[[0. 0. 0. 0.]\n",
      " [0. 0. 0. 0.]\n",
      " [0. 0. 0. 0.]]\n"
     ]
    }
   ],
   "source": [
    "print(predictions)"
   ]
  },
  {
   "cell_type": "code",
   "execution_count": null,
   "metadata": {},
   "outputs": [],
   "source": []
  }
 ],
 "metadata": {
  "kernelspec": {
   "display_name": "Python 3",
   "language": "python",
   "name": "python3"
  },
  "language_info": {
   "codemirror_mode": {
    "name": "ipython",
    "version": 3
   },
   "file_extension": ".py",
   "mimetype": "text/x-python",
   "name": "python",
   "nbconvert_exporter": "python",
   "pygments_lexer": "ipython3",
   "version": "3.8.5"
  }
 },
 "nbformat": 4,
 "nbformat_minor": 4
}
